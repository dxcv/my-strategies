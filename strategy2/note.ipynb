{
 "cells": [
  {
   "cell_type": "code",
   "execution_count": 9,
   "metadata": {},
   "outputs": [],
   "source": [
    "import pymysql\n",
    "import numpy as np\n",
    "from numpy import random as nr\n",
    "import pandas as pd\n",
    "from scipy import optimize\n",
    "import datetime as dtt\n",
    "from WindPy import w\n",
    "import statsmodels.api as sm\n",
    "import matplotlib.pyplot as plt"
   ]
  },
  {
   "cell_type": "code",
   "execution_count": 2,
   "metadata": {},
   "outputs": [],
   "source": [
    "class WindIrsData(object):\n",
    "    \"\"\"从WIND中提取利率互换收盘价数据\"\"\"\n",
    "    def __init__(self, type):\n",
    "        \"\"\"存储不同种类的IRS代码，主要期限为9M, 1Y, 2Y, 3Y, 4Y, 5Y\"\"\"\n",
    "        if type == \"FR007\":\n",
    "            self.codes = [\"M0218007\", \"M0218008\", \"M0218009\", \"M0218010\", \"M0218011\", \"M0218012\"]\n",
    "            self.columns = [\"FR007S9M\", \"FR007S1Y\", \"FR007S2Y\", \"FR007S3Y\", \"FR007S4Y\", \"FR007S5Y\"]\n",
    "            self.outliers = [dtt.date(2015, 5, 22)]\n",
    "        elif type == \"SHIBOR3M\":\n",
    "            self.codes = [\"M0218016\", \"M0218017\", \"M0218018\", \"M0218019\", \"M0218020\", \"M0218021\"]\n",
    "            self.columns = [\"SHI3MS9M\", \"SHI3MS1Y\", \"SHI3MS2Y\", \"SHI3MS3Y\", \"SHI3MS4Y\", \"SHI3MS5Y\"]\n",
    "            self.outliers = [dtt.date(2015, 5, 6), dtt.date(2015, 6, 4), dtt.date(2015, 6, 10), dtt.date(2015, 9, 21)]\n",
    "        else:\n",
    "            raise ValueError(\"不被接受的参数值type\")\n",
    "        self.wdata = None\n",
    "        self.times = None\n",
    "        self.data = None\n",
    "        self.df = None\n",
    "    \n",
    "    def extract(self, dt1=dtt.date(2015, 1, 1), dt2=dtt.date(2018, 12, 17)):\n",
    "        \"从Wind中提取相应品种利率互换的日收盘价数据\"\n",
    "        wData = w.edb(self.codes, dt1, dt2)\n",
    "        if wData.ErrorCode == 0:\n",
    "            self.wdata = wData\n",
    "            self.times = wData.Times\n",
    "            self.data = wData.Data\n",
    "            self.df = pd.DataFrame(list(zip(*self.data)), index=pd.to_datetime(self.times), columns=self.columns)\n",
    "            self.df.drop(self.outliers, inplace=True)\n",
    "        else:\n",
    "            raise ValueError(\"{}\".format(wData.ErrorCode))\n",
    "    \n",
    "    def spreads(self):\n",
    "        \"\"\"分别返回9M*1Y，1*5Y，2*5Y，3*5Y，4*5Y的利差数据\"\"\"\n",
    "        spreads = [self.df[self.columns[1]]-self.df[self.columns[0]], self.df[self.columns[5]]-self.df[self.columns[1]], \\\n",
    "                  self.df[self.columns[5]]-self.df[self.columns[2]], self.df[self.columns[5]]-self.df[self.columns[3]],\\\n",
    "                  self.df[self.columns[5]]-self.df[self.columns[4]]]\n",
    "        res = pd.concat(spreads, axis=1)\n",
    "        res.columns = [\"9M*1Y\", \"1*5Y\", \"2*5Y\", \"3*5Y\", \"4*5Y\"]\n",
    "        return res"
   ]
  },
  {
   "cell_type": "code",
   "execution_count": 3,
   "metadata": {},
   "outputs": [],
   "source": [
    "class Stats(object):\n",
    "    \"\"\"本类用于对利率互换期限利差之间的相互关系进行统计\"\"\"\n",
    "    def __init__(self, type=\"FR007\", dt1=dtt.date(2015, 1, 1), dt2=dtt.date(2018, 12, 17)):\n",
    "        \"\"\"初始化，type为利率互换基础利率品种，dt1为样本开始日期，dt2为样本结束日期\"\"\"\n",
    "        self.type = type\n",
    "        self.dt1 = dt1\n",
    "        self.dt2 = dt2\n",
    "        self.wid = WindIrsData(self.type)\n",
    "        self.wid.extract(dt1, dt2)\n",
    "        self.spreads = self.wid.spreads()\n",
    "        \n",
    "    def get_params(self, dt1, dt2):\n",
    "        \"\"\"以1*5Y为解释变量，分别以9M*1Y，2*5Y，3*5Y，4*5Y为被解释变量进行单元线性回归（不带常数项），返回解释变量的系数\"\"\"\n",
    "        params = []\n",
    "        spreads = self.spreads.loc[(self.spreads.index>dt1)&(self.spreads.index<=dt2)]\n",
    "        fields = [\"9M*1Y\", \"2*5Y\", \"3*5Y\", \"4*5Y\"] # 因变量字段名\n",
    "        field = \"1*5Y\" # 自变量字段名\n",
    "        for f in fields:\n",
    "            data = spreads[[field, f]].dropna()\n",
    "            x = data.iloc[:, 0]\n",
    "            y = data.iloc[:, 1]\n",
    "            model = sm.OLS(y, x)\n",
    "            res = model.fit()\n",
    "            params.append(res.params[0])\n",
    "        return params\n",
    "    \n",
    "    def roll_params(self, roll_period):\n",
    "        \"\"\"使用滚动的方式计算单元线性回归参数，样本期为roll_period\"\"\"\n",
    "        res = []\n",
    "        dts = self.spreads.index\n",
    "        for i in range(len(dts)-roll_period):\n",
    "            dt1 = dts[i]\n",
    "            dt2 = dts[i+roll_period]\n",
    "            params = self.get_params(dt1, dt2)\n",
    "            res.append(params)\n",
    "        res = pd.DataFrame(res, index=pd.to_datetime(dts[roll_period:]), columns=[\"9M*1Y\", \"2*5Y\", \"3*5Y\", \"4*5Y\"])\n",
    "        return res      "
   ]
  },
  {
   "cell_type": "code",
   "execution_count": 4,
   "metadata": {},
   "outputs": [],
   "source": [
    "# w.start()\n",
    "# type = \"SHIBOR3M\"\n",
    "# stats = Stats(type)\n",
    "# df = stats.roll_params(90)\n",
    "# df.plot(figsize=(12, 6), title=\"{} (roll_period=90)\".format(type))\n",
    "# plt.legend(loc=\"upper left\")\n",
    "# plt.show()"
   ]
  },
  {
   "cell_type": "code",
   "execution_count": 48,
   "metadata": {},
   "outputs": [],
   "source": [
    "class IrsModel(object):\n",
    "    \"\"\"IrsModel类用于创建对利率互换进行定价的模型，模型的主要原理是依据某个期限点的最新的市场合理报价与成交来确定其他\n",
    "    期限利率互换的合理报价，模型藉由一个维度N来进行初始化，N表示模型应当包括的期限个数，例如模型只对1Y, 2Y, 3Y, 4Y, 5Y\n",
    "    这5个期限进行报价，那么N=5。初始化类时还可以提供参数矩阵B，如果不提供则需要调用B_estimate方法来对B进行估计\"\"\"\n",
    "    def __init__(self, N, R0=None, B=None):\n",
    "        self.N = N\n",
    "        self.B = B\n",
    "        self.R = R0\n",
    "        \n",
    "    def reset_R(self, R):\n",
    "        \"\"\"重置R\"\"\"\n",
    "        self.R = R\n",
    "\n",
    "    def B_Matrix(self, x):\n",
    "        \"\"\"本方法生成一个函数，接受(N-1)*(N-1)个参数(即x），生成一个N*N矩阵，其对角元素均为1，该矩阵其实就是参数矩阵B，创建该\n",
    "        函数的原因是为了进一步构建最小二乘函数用来估计B中的(N-1)*(N-1)个参数\"\"\"\n",
    "        B = np.eye(self.N)\n",
    "        i = 0\n",
    "        for j in range(self.N):\n",
    "            for k in range(self.N):\n",
    "                if j == k:\n",
    "                    continue\n",
    "                else:\n",
    "                    B[j, k] = x[i]\n",
    "                    i += 1\n",
    "        return B\n",
    "\n",
    "    def receive(self, Xt):\n",
    "        \"\"\"receive方法用于接收最新的价格信息Xt，并根据Rt-1计算出价格冲击It\"\"\"\n",
    "        It = np.matrix(np.zeros(self.N)).T\n",
    "        index = Xt != 0\n",
    "        it = Xt[index] - self.R[index]\n",
    "        It[index] = it[0, 0]\n",
    "        return It"
   ]
  },
  {
   "cell_type": "code",
   "execution_count": 49,
   "metadata": {
    "scrolled": true
   },
   "outputs": [],
   "source": [
    "R0 = np.matrix([2, 2, 2, 2, 2]).T\n",
    "im = IrsModel(5)\n",
    "im.reset_R(R0)"
   ]
  },
  {
   "cell_type": "code",
   "execution_count": 50,
   "metadata": {},
   "outputs": [
    {
     "data": {
      "text/plain": [
       "matrix([[ 0.],\n",
       "        [ 0.],\n",
       "        [-1.],\n",
       "        [ 0.],\n",
       "        [ 0.]])"
      ]
     },
     "execution_count": 50,
     "metadata": {},
     "output_type": "execute_result"
    }
   ],
   "source": [
    "b = np.matrix([0, 0, 1, 0, 0]).T\n",
    "im.receive(b)"
   ]
  },
  {
   "cell_type": "code",
   "execution_count": 47,
   "metadata": {
    "scrolled": true
   },
   "outputs": [
    {
     "data": {
      "text/plain": [
       "matrix([[2]])"
      ]
     },
     "execution_count": 47,
     "metadata": {},
     "output_type": "execute_result"
    }
   ],
   "source": [
    "index = b != 0\n",
    "R0[index]"
   ]
  },
  {
   "cell_type": "code",
   "execution_count": 40,
   "metadata": {},
   "outputs": [],
   "source": [
    "z[i]=1"
   ]
  },
  {
   "cell_type": "code",
   "execution_count": 41,
   "metadata": {},
   "outputs": [
    {
     "data": {
      "text/plain": [
       "matrix([[0.],\n",
       "        [0.],\n",
       "        [1.],\n",
       "        [0.],\n",
       "        [0.]])"
      ]
     },
     "execution_count": 41,
     "metadata": {},
     "output_type": "execute_result"
    }
   ],
   "source": [
    "z"
   ]
  }
 ],
 "metadata": {
  "kernelspec": {
   "display_name": "Python 3",
   "language": "python",
   "name": "python3"
  },
  "language_info": {
   "codemirror_mode": {
    "name": "ipython",
    "version": 3
   },
   "file_extension": ".py",
   "mimetype": "text/x-python",
   "name": "python",
   "nbconvert_exporter": "python",
   "pygments_lexer": "ipython3",
   "version": "3.6.6"
  }
 },
 "nbformat": 4,
 "nbformat_minor": 1
}
