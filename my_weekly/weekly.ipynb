{
 "cells": [
  {
   "cell_type": "code",
   "execution_count": 1,
   "metadata": {},
   "outputs": [],
   "source": [
    "import requests\n",
    "import pymysql\n",
    "from bs4 import BeautifulSoup as bs\n",
    "from WindPy import w"
   ]
  },
  {
   "cell_type": "code",
   "execution_count": 11,
   "metadata": {},
   "outputs": [],
   "source": [
    "url = \"http://www.chinamoney.com.cn/ags/ms/cm-u-bk-shibor/IfccHis?cfgItemType=71&lang=CN&pageNum=1&pageSize=20\"\n",
    "post_params = {\"startDateCN\": \"2019-03-01\", \"endDateCN\": \"2019-03-08\", \"bightNamelist\": \"Shibor3M利率互换收盘曲线\"}"
   ]
  },
  {
   "cell_type": "code",
   "execution_count": 12,
   "metadata": {},
   "outputs": [],
   "source": [
    "res = requests.post(url, post_params)"
   ]
  },
  {
   "cell_type": "code",
   "execution_count": 13,
   "metadata": {},
   "outputs": [
    {
     "data": {
      "text/plain": [
       "'{\"head\":{\"version\":\"2.0\",\"provider\":\"CWAP\",\"req_code\":\"\",\"rep_code\":\"200\",\"rep_message\":\"\",\"ts\":1552035254517,\"producer\":\"\",\"tstext\":\"2019-03-08 16:54:14\"},\"data\":{\"total\":897,\"endDateEN\":\"08 Mar 2019\",\"bightNamelist\":[\"Shibor3M利率互换定盘曲线\",\"Shibor3M利率互换行情曲线\",\"Shibor3M利率互换收盘曲线\"],\"pageTotal\":45,\"quoteTime\":null,\"pageSize\":20,\"startDateCN\":\"2019-02-08\",\"cfgItemType\":\"71\",\"quoteTimeList\":[\"9:30\",\"10:00\",\"10:30\",\"11:00\",\"11:30\",\"12:00\",\"12:30\",\"13:00\",\"13:30\",\"14:00\",\"14:30\",\"15:00\",\"15:30\",\"16:00\",\"16:30\"],\"endDateCN\":\"2019-03-08\",\"bigthRowName\":[\"6M\",\"9M\",\"1Y\",\"2Y\",\"3Y\",\"4Y\",\"5Y\",\"7Y\",\"10Y\"],\"startDateEN\":\"08 Feb 2019\",\"pageNum\":1,\"message\":\"\",\"curveids\":[\"15\",\"17\",\"16\"],\"curveid\":null,\"shortNameList\":[\"定盘\",\"行情\",\"收盘\"]},\"records\":[{\"curveType\":\"收盘\",\"bigthType\":\"CISCS3M\",\"dateShowEn\":\"08 Mar 2019\",\"bigthName\":\"Shibor3M利率互换收盘曲线\",\"quoteTime\":\"16:30\",\"configPrice\":[\"2.8700\",\"2.9500\",\"3.0205\",\"3.1450\",\"3.2446\",\"3.3500\",\"3.4588\",\"3.6000\",\"3.7500\"],\"date\":\"2019-03-08\",\"type\":null,\"showDate\":\"2019-03-08 16:30\",\"id\":\"CISCS3M\",\"askBidSort\":\"1\",\"bightlist\":[],\"term\":null,\"quoteTimeTag\":1630,\"ask\":null,\"avg\":null,\"bid\":null,\"askBid\":\"报买\"},{\"curveType\":\"收盘\",\"bigthType\":\"CISCS3M\",\"dateShowEn\":\"08 Mar 2019\",\"bigthName\":\"Shibor3M利率互换收盘曲线\",\"quoteTime\":\"16:30\",\"configPrice\":[\"2.8863\",\"2.9613\",\"3.0240\",\"3.1500\",\"3.2511\",\"3.3538\",\"3.4609\",\"3.6213\",\"3.7700\"],\"date\":\"2019-03-08\",\"type\":null,\"showDate\":\"2019-03-08 16:30\",\"id\":\"CISCS3M\",\"askBidSort\":\"2\",\"bightlist\":[],\"term\":null,\"quoteTimeTag\":1630,\"ask\":null,\"avg\":null,\"bid\":null,\"askBid\":\"均值\"},{\"curveType\":\"收盘\",\"bigthType\":\"CISCS3M\",\"dateShowEn\":\"08 Mar 2019\",\"bigthName\":\"Shibor3M利率互换收盘曲线\",\"quoteTime\":\"16:30\",\"configPrice\":[\"2.9025\",\"2.9725\",\"3.0275\",\"3.1550\",\"3.2575\",\"3.3575\",\"3.4631\",\"3.6425\",\"3.7900\"],\"date\":\"2019-03-08\",\"type\":null,\"showDate\":\"2019-03-08 16:30\",\"id\":\"CISCS3M\",\"askBidSort\":\"3\",\"bightlist\":[],\"term\":null,\"quoteTimeTag\":1630,\"ask\":null,\"avg\":null,\"bid\":null,\"askBid\":\"报卖\"},{\"curveType\":\"行情\",\"bigthType\":\"CISXS3M\",\"dateShowEn\":\"08 Mar 2019\",\"bigthName\":\"Shibor3M利率互换行情曲线\",\"quoteTime\":\"16:00\",\"configPrice\":[\"2.8700\",\"2.9500\",\"3.0200\",\"3.1450\",\"3.2475\",\"3.3500\",\"3.4600\",\"3.5977\",\"3.7500\"],\"date\":\"2019-03-08\",\"type\":null,\"showDate\":\"2019-03-08 16:00\",\"id\":\"CISXS3M\",\"askBidSort\":\"1\",\"bightlist\":[],\"term\":null,\"quoteTimeTag\":1600,\"ask\":null,\"avg\":null,\"bid\":null,\"askBid\":\"报买\"},{\"curveType\":\"行情\",\"bigthType\":\"CISXS3M\",\"dateShowEn\":\"08 Mar 2019\",\"bigthName\":\"Shibor3M利率互换行情曲线\",\"quoteTime\":\"16:00\",\"configPrice\":[\"2.8863\",\"2.9613\",\"3.0238\",\"3.1500\",\"3.2525\",\"3.3538\",\"3.4625\",\"3.6201\",\"3.7700\"],\"date\":\"2019-03-08\",\"type\":null,\"showDate\":\"2019-03-08 16:00\",\"id\":\"CISXS3M\",\"askBidSort\":\"2\",\"bightlist\":[],\"term\":null,\"quoteTimeTag\":1600,\"ask\":null,\"avg\":null,\"bid\":null,\"askBid\":\"均值\"},{\"curveType\":\"行情\",\"bigthType\":\"CISXS3M\",\"dateShowEn\":\"08 Mar 2019\",\"bigthName\":\"Shibor3M利率互换行情曲线\",\"quoteTime\":\"16:00\",\"configPrice\":[\"2.9025\",\"2.9725\",\"3.0275\",\"3.1550\",\"3.2575\",\"3.3575\",\"3.4650\",\"3.6425\",\"3.7900\"],\"date\":\"2019-03-08\",\"type\":null,\"showDate\":\"2019-03-08 16:00\",\"id\":\"CISXS3M\",\"askBidSort\":\"3\",\"bightlist\":[],\"term\":null,\"quoteTimeTag\":1600,\"ask\":null,\"avg\":null,\"bid\":null,\"askBid\":\"报卖\"},{\"curveType\":\"行情\",\"bigthType\":\"CISXS3M\",\"dateShowEn\":\"08 Mar 2019\",\"bigthName\":\"Shibor3M利率互换行情曲线\",\"quoteTime\":\"15:30\",\"configPrice\":[\"2.8650\",\"2.9450\",\"3.0200\",\"3.1350\",\"3.2398\",\"3.3450\",\"3.4606\",\"3.5900\",\"3.7375\"],\"date\":\"2019-03-08\",\"type\":null,\"showDate\":\"2019-03-08 15:30\",\"id\":\"CISXS3M\",\"askBidSort\":\"1\",\"bightlist\":[],\"term\":null,\"quoteTimeTag\":1530,\"ask\":null,\"avg\":null,\"bid\":null,\"askBid\":\"报买\"},{\"curveType\":\"行情\",\"bigthType\":\"CISXS3M\",\"dateShowEn\":\"08 Mar 2019\",\"bigthName\":\"Shibor3M利率互换行情曲线\",\"quoteTime\":\"15:30\",\"configPrice\":[\"2.8847\",\"2.9588\",\"3.0213\",\"3.1463\",\"3.2499\",\"3.3513\",\"3.4621\",\"3.6163\",\"3.7638\"],\"date\":\"2019-03-08\",\"type\":null,\"showDate\":\"2019-03-08 15:30\",\"id\":\"CISXS3M\",\"askBidSort\":\"2\",\"bightlist\":[],\"term\":null,\"quoteTimeTag\":1530,\"ask\":null,\"avg\":null,\"bid\":null,\"askBid\":\"均值\"},{\"curveType\":\"行情\",\"bigthType\":\"CISXS3M\",\"dateShowEn\":\"08 Mar 2019\",\"bigthName\":\"Shibor3M利率互换行情曲线\",\"quoteTime\":\"15:30\",\"configPrice\":[\"2.9045\",\"2.9725\",\"3.0225\",\"3.1575\",\"3.2600\",\"3.3575\",\"3.4636\",\"3.6425\",\"3.7900\"],\"date\":\"2019-03-08\",\"type\":null,\"showDate\":\"2019-03-08 15:30\",\"id\":\"CISXS3M\",\"askBidSort\":\"3\",\"bightlist\":[],\"term\":null,\"quoteTimeTag\":1530,\"ask\":null,\"avg\":null,\"bid\":null,\"askBid\":\"报卖\"},{\"curveType\":\"行情\",\"bigthType\":\"CISXS3M\",\"dateShowEn\":\"08 Mar 2019\",\"bigthName\":\"Shibor3M利率互换行情曲线\",\"quoteTime\":\"15:00\",\"configPrice\":[\"2.8659\",\"2.9456\",\"3.0153\",\"3.1363\",\"3.2367\",\"3.3415\",\"3.4468\",\"3.5900\",\"3.7375\"],\"date\":\"2019-03-08\",\"type\":null,\"showDate\":\"2019-03-08 15:00\",\"id\":\"CISXS3M\",\"askBidSort\":\"1\",\"bightlist\":[],\"term\":null,\"quoteTimeTag\":1500,\"ask\":null,\"avg\":null,\"bid\":null,\"askBid\":\"报买\"},{\"curveType\":\"行情\",\"bigthType\":\"CISXS3M\",\"dateShowEn\":\"08 Mar 2019\",\"bigthName\":\"Shibor3M利率互换行情曲线\",\"quoteTime\":\"15:00\",\"configPrice\":[\"2.8867\",\"2.9590\",\"3.0189\",\"3.1466\",\"3.2493\",\"3.3511\",\"3.4504\",\"3.6163\",\"3.7638\"],\"date\":\"2019-03-08\",\"type\":null,\"showDate\":\"2019-03-08 15:00\",\"id\":\"CISXS3M\",\"askBidSort\":\"2\",\"bightlist\":[],\"term\":null,\"quoteTimeTag\":1500,\"ask\":null,\"avg\":null,\"bid\":null,\"askBid\":\"均值\"},{\"curveType\":\"行情\",\"bigthType\":\"CISXS3M\",\"dateShowEn\":\"08 Mar 2019\",\"bigthName\":\"Shibor3M利率互换行情曲线\",\"quoteTime\":\"15:00\",\"configPrice\":[\"2.9075\",\"2.9725\",\"3.0225\",\"3.1569\",\"3.2619\",\"3.3607\",\"3.4540\",\"3.6425\",\"3.7900\"],\"date\":\"2019-03-08\",\"type\":null,\"showDate\":\"2019-03-08 15:00\",\"id\":\"CISXS3M\",\"askBidSort\":\"3\",\"bightlist\":[],\"term\":null,\"quoteTimeTag\":1500,\"ask\":null,\"avg\":null,\"bid\":null,\"askBid\":\"报卖\"},{\"curveType\":\"行情\",\"bigthType\":\"CISXS3M\",\"dateShowEn\":\"08 Mar 2019\",\"bigthName\":\"Shibor3M利率互换行情曲线\",\"quoteTime\":\"14:30\",\"configPrice\":[\"2.8682\",\"2.9475\",\"3.0180\",\"3.1348\",\"3.2357\",\"3.3412\",\"3.4470\",\"3.5900\",\"3.7377\"],\"date\":\"2019-03-08\",\"type\":null,\"showDate\":\"2019-03-08 14:30\",\"id\":\"CISXS3M\",\"askBidSort\":\"1\",\"bightlist\":[],\"term\":null,\"quoteTimeTag\":1430,\"ask\":null,\"avg\":null,\"bid\":null,\"askBid\":\"报买\"},{\"curveType\":\"行情\",\"bigthType\":\"CISXS3M\",\"dateShowEn\":\"08 Mar 2019\",\"bigthName\":\"Shibor3M利率互换行情曲线\",\"quoteTime\":\"14:30\",\"configPrice\":[\"2.8879\",\"2.9603\",\"3.0209\",\"3.1466\",\"3.2491\",\"3.3550\",\"3.4540\",\"3.6175\",\"3.7663\"],\"date\":\"2019-03-08\",\"type\":null,\"showDate\":\"2019-03-08 14:30\",\"id\":\"CISXS3M\",\"askBidSort\":\"2\",\"bightlist\":[],\"term\":null,\"quoteTimeTag\":1430,\"ask\":null,\"avg\":null,\"bid\":null,\"askBid\":\"均值\"},{\"curveType\":\"行情\",\"bigthType\":\"CISXS3M\",\"dateShowEn\":\"08 Mar 2019\",\"bigthName\":\"Shibor3M利率互换行情曲线\",\"quoteTime\":\"14:30\",\"configPrice\":[\"2.9075\",\"2.9732\",\"3.0238\",\"3.1585\",\"3.2625\",\"3.3689\",\"3.4610\",\"3.6450\",\"3.7950\"],\"date\":\"2019-03-08\",\"type\":null,\"showDate\":\"2019-03-08 14:30\",\"id\":\"CISXS3M\",\"askBidSort\":\"3\",\"bightlist\":[],\"term\":null,\"quoteTimeTag\":1430,\"ask\":null,\"avg\":null,\"bid\":null,\"askBid\":\"报卖\"},{\"curveType\":\"行情\",\"bigthType\":\"CISXS3M\",\"dateShowEn\":\"08 Mar 2019\",\"bigthName\":\"Shibor3M利率互换行情曲线\",\"quoteTime\":\"14:00\",\"configPrice\":[\"2.8675\",\"2.9410\",\"3.0083\",\"3.1300\",\"3.2250\",\"3.3309\",\"3.4371\",\"3.5900\",\"3.7375\"],\"date\":\"2019-03-08\",\"type\":null,\"showDate\":\"2019-03-08 14:00\",\"id\":\"CISXS3M\",\"askBidSort\":\"1\",\"bightlist\":[],\"term\":null,\"quoteTimeTag\":1400,\"ask\":null,\"avg\":null,\"bid\":null,\"askBid\":\"报买\"},{\"curveType\":\"行情\",\"bigthType\":\"CISXS3M\",\"dateShowEn\":\"08 Mar 2019\",\"bigthName\":\"Shibor3M利率互换行情曲线\",\"quoteTime\":\"14:00\",\"configPrice\":[\"2.8885\",\"2.9543\",\"3.0152\",\"3.1497\",\"3.2438\",\"3.3480\",\"3.4528\",\"3.6175\",\"3.7663\"],\"date\":\"2019-03-08\",\"type\":null,\"showDate\":\"2019-03-08 14:00\",\"id\":\"CISXS3M\",\"askBidSort\":\"2\",\"bightlist\":[],\"term\":null,\"quoteTimeTag\":1400,\"ask\":null,\"avg\":null,\"bid\":null,\"askBid\":\"均值\"},{\"curveType\":\"行情\",\"bigthType\":\"CISXS3M\",\"dateShowEn\":\"08 Mar 2019\",\"bigthName\":\"Shibor3M利率互换行情曲线\",\"quoteTime\":\"14:00\",\"configPrice\":[\"2.9095\",\"2.9675\",\"3.0221\",\"3.1695\",\"3.2625\",\"3.3650\",\"3.4686\",\"3.6450\",\"3.7950\"],\"date\":\"2019-03-08\",\"type\":null,\"showDate\":\"2019-03-08 14:00\",\"id\":\"CISXS3M\",\"askBidSort\":\"3\",\"bightlist\":[],\"term\":null,\"quoteTimeTag\":1400,\"ask\":null,\"avg\":null,\"bid\":null,\"askBid\":\"报卖\"},{\"curveType\":\"行情\",\"bigthType\":\"CISXS3M\",\"dateShowEn\":\"08 Mar 2019\",\"bigthName\":\"Shibor3M利率互换行情曲线\",\"quoteTime\":\"13:30\",\"configPrice\":[\"2.8300\",\"2.9000\",\"3.0100\",\"3.1300\",\"3.1900\",\"3.3000\",\"3.4000\",\"3.5200\",\"3.6800\"],\"date\":\"2019-03-08\",\"type\":null,\"showDate\":\"2019-03-08 13:30\",\"id\":\"CISXS3M\",\"askBidSort\":\"1\",\"bightlist\":[],\"term\":null,\"quoteTimeTag\":1330,\"ask\":null,\"avg\":null,\"bid\":null,\"askBid\":\"报买\"},{\"curveType\":\"行情\",\"bigthType\":\"CISXS3M\",\"dateShowEn\":\"08 Mar 2019\",\"bigthName\":\"Shibor3M利率互换行情曲线\",\"quoteTime\":\"13:30\",\"configPrice\":[\"2.8800\",\"2.9500\",\"3.0150\",\"3.1450\",\"3.2400\",\"3.3500\",\"3.4500\",\"3.6200\",\"3.7800\"],\"date\":\"2019-03-08\",\"type\":null,\"showDate\":\"2019-03-08 13:30\",\"id\":\"CISXS3M\",\"askBidSort\":\"2\",\"bightlist\":[],\"term\":null,\"quoteTimeTag\":1330,\"ask\":null,\"avg\":null,\"bid\":null,\"askBid\":\"均值\"}]}'"
      ]
     },
     "execution_count": 13,
     "metadata": {},
     "output_type": "execute_result"
    }
   ],
   "source": [
    "res.text"
   ]
  },
  {
   "cell_type": "code",
   "execution_count": null,
   "metadata": {},
   "outputs": [],
   "source": []
  }
 ],
 "metadata": {
  "kernelspec": {
   "display_name": "Python 3",
   "language": "python",
   "name": "python3"
  },
  "language_info": {
   "codemirror_mode": {
    "name": "ipython",
    "version": 3
   },
   "file_extension": ".py",
   "mimetype": "text/x-python",
   "name": "python",
   "nbconvert_exporter": "python",
   "pygments_lexer": "ipython3",
   "version": "3.6.6"
  }
 },
 "nbformat": 4,
 "nbformat_minor": 2
}
