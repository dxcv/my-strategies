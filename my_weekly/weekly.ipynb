{
 "cells": [
  {
   "cell_type": "code",
   "execution_count": 1,
   "metadata": {},
   "outputs": [],
   "source": [
    "import requests\n",
    "import pymysql\n",
    "from bs4 import BeautifulSoup as bs\n",
    "import json"
   ]
  },
  {
   "cell_type": "code",
   "execution_count": 2,
   "metadata": {},
   "outputs": [],
   "source": [
    "def dataDeal(content):\n",
    "    db = pymysql.connect(host = 'localhost',user = 'root',passwd ='123456',db = 'cfets',charset='utf8' )\n",
    "    cursor = db.cursor()\n",
    "    try:\n",
    "        cursor.execute(content)\n",
    "        print(cursor.fetchall())\n",
    "        db.commit()\n",
    "        db.close()\n",
    "    except:\n",
    "        db.close()"
   ]
  },
  {
   "cell_type": "code",
   "execution_count": 3,
   "metadata": {},
   "outputs": [],
   "source": [
    "class Shibor3M(object):\n",
    "    \"\"\"本类用于从中国货币网爬取Shibor 3M数据\"\"\"\n",
    "    def __init__(self, url, headers, cookies):\n",
    "        self.url = url\n",
    "        self.headers = headers\n",
    "        self.cookies = cookies\n",
    "        \n",
    "    def getJson(self):\n",
    "        sourcejson = requests.post(url = self.url,headers = self.headers,cookies = self.cookies)\n",
    "        if sourcejson.status_code != 200:\n",
    "            return\n",
    "        sourcejson = sourcejson.content\n",
    "        # sourcejson = sourcejson.decode(\"utf-8\")\n",
    "        jsonSource = json.loads(sourcejson)\n",
    "        for k,v in jsonSource.items():\n",
    "            # print(k, type(v), v)\n",
    "            pass\n",
    "        jsonDict = {}\n",
    "        jsonDict[\"curveType\"] = jsonSource[\"data\"][\"curveType\"]\n",
    "        jsonDict[\"curveTypeEn\"] = jsonSource[\"data\"][\"curveTypeEn\"]\n",
    "        jsonDict[\"cfgItemType\"] = jsonSource[\"data\"][\"cfgItemType\"] #curveId\n",
    "        jsonDict[\"curveId\"] = jsonSource[\"data\"][\"curveId\"] #curveId\n",
    "        try:\n",
    "            jsonDict[\"options\"] = jsonSource[\"data\"][\"options\"] [jsonDict[\"curveId\"]] or \"\"#curveId\n",
    "        except:\n",
    "            jsonDict[\"options\"] = \"\"\n",
    "        jsonDict[\"quoteTime\"] = jsonSource[\"data\"][\"quoteTime\"]\n",
    "        jsonDict[\"showDateCN\"] = jsonSource[\"data\"][\"showDateCN\"]\n",
    "        jsonDict[\"showDateEN\"] = jsonSource[\"data\"][\"showDateEN\"]\n",
    "        jsonDict[\"provider\"] = jsonSource[\"head\"][\"provider\"]\n",
    "        jsonDict[\"ts\"] = jsonSource[\"head\"][\"ts\"]\n",
    "        jsonDict[\"tstext\"] = jsonSource[\"head\"][\"tstext\"]\n",
    "        try:\n",
    "            jsonDict[\"records\"] = jsonSource[\"records\"]\n",
    "        except:\n",
    "            jsonDict[\"records\"] = \"\"\n",
    "        jsonDict[\"issueCode\"] = {}\n",
    "        if jsonDict[\"records\"] != \"\":\n",
    "            for index,line in enumerate(jsonDict[\"records\"]):\n",
    "                jsonDict[\"issueCode\"][jsonDict[\"curveTypeEn\"] + \"_\" + line[\"tl\"]] = [line[\"tl\"],line[\"optimalAvg\"],line[\"optimalAsk\"],line[\"optimalBid\"],line[\"curveid\"]]        \n",
    "                for k,v in jsonDict[\"issueCode\"].items():\n",
    "                    # print(k,jsonDict[\"showDateCN\"],jsonDict[\"quoteTime\"],jsonDict[\"curveTypeEn\"],jsonDict[\"cfgItemType\"],jsonDict[\"curveId\"],jsonDict[\"options\"],jsonDict[\"provider\"],jsonDict[\"tstext\"],v,)\n",
    "                    str = \"insert into IRS_CFETS(IssueCode,showDateCN,quoteTime,curveTypeEn,cfgItemType,curveId,options,provider,tstext,tl,optimalAvg,optimalAsk,optimalBid) value('{IssueCode}','{showDateCN}','{quoteTime}','{curveTypeEn}','{cfgItemType}','{curveId}','{options}','{provider}','{tstext}','{tl}','{optimalAvg}','{optimalAsk}','{optimalBid}');\"\\\n",
    "                        .format(IssueCode = k,showDateCN = jsonDict[\"showDateCN\"],quoteTime = jsonDict[\"quoteTime\"],curveTypeEn = jsonDict[\"curveTypeEn\"],cfgItemType = jsonDict[\"cfgItemType\"],curveId = jsonDict[\"curveId\"],options = jsonDict[\"options\"],provider = jsonDict[\"provider\"],tstext = jsonDict[\"tstext\"],tl = v[0] ,optimalAvg = v[1],optimalAsk = v[2],optimalBid = v[3])\n",
    "                    print(str)\n",
    "                    dataDeal(str)"
   ]
  },
  {
   "cell_type": "code",
   "execution_count": 33,
   "metadata": {},
   "outputs": [],
   "source": [
    "url = r\"\"\"http://www.chinamoney.com.cn/ags/ms/cm-u-bk-shibor/IfccHis?cfgItemType=71&lang=EN\"\"\"\n",
    "headers = {\n",
    "    \"Accept\": \"application/json,text/javascript,*/*;q=0.01\",\n",
    "    \"Accept-Encoding\":\"gzip,deflate\",\n",
    "    \"Accept-Language\":\"zh-CN,zh;q=0.9\",\n",
    "    \"User-Agent\":\"Mozilla/5.0 (Windows NT 10.0; WOW64) AppleWebKit/537.36 (KHTML, like Gecko) Chrome/69.0.3497.100 Safari/537.36\"\n",
    "}\n",
    "data = {\"startDate\": \"2019-03-13\", \n",
    "        \"endDate\": \"2019-03-14\",\n",
    "        \"interestRateType\": \"16\",\n",
    "        \"quoteTime\": \"16:30\",\n",
    "        \"bidAskType\": \"avg\"}"
   ]
  },
  {
   "cell_type": "code",
   "execution_count": 34,
   "metadata": {},
   "outputs": [],
   "source": [
    "res = requests.post(url, headers=headers, data=data)"
   ]
  },
  {
   "cell_type": "code",
   "execution_count": 35,
   "metadata": {},
   "outputs": [],
   "source": [
    "resJson = json.loads(res.content)"
   ]
  },
  {
   "cell_type": "code",
   "execution_count": 36,
   "metadata": {},
   "outputs": [
    {
     "data": {
      "text/plain": [
       "{'head': {'version': '2.0',\n",
       "  'provider': 'CWAP',\n",
       "  'req_code': '',\n",
       "  'rep_code': '200',\n",
       "  'rep_message': '',\n",
       "  'ts': 1552556093007,\n",
       "  'producer': '',\n",
       "  'tstext': '2019-03-14 17:34:53'},\n",
       " 'data': {'curveids': ['15', '17', '16'],\n",
       "  'message': '',\n",
       "  'endDateEN': '14 Mar 2019',\n",
       "  'bightNamelist': ['Shibor3M Fixing Curve',\n",
       "   'Shibor3M Quotes Curve',\n",
       "   'Shibor3M Closing Curve'],\n",
       "  'quoteTime': '16:30',\n",
       "  'startDateCN': '2019-03-13',\n",
       "  'cfgItemType': '71',\n",
       "  'quoteTimeList': ['16:30'],\n",
       "  'endDateCN': '2019-03-14',\n",
       "  'curveid': '16',\n",
       "  'bigthRowName': ['6M', '9M', '1Y', '2Y', '3Y', '4Y', '5Y', '7Y', '10Y'],\n",
       "  'startDateEN': '13 Mar 2019',\n",
       "  'shortNameList': ['Fixing', 'Quotes', 'Closing']},\n",
       " 'records': [{'curveType': 'Closing Curve',\n",
       "   'bigthType': 'CISCS3M',\n",
       "   'dateShowEn': '14 Mar 2019',\n",
       "   'bigthName': 'Shibor3M Closing Curve',\n",
       "   'quoteTime': '16:30',\n",
       "   'configPrice': ['2.8988',\n",
       "    '2.9775',\n",
       "    '3.0413',\n",
       "    '3.1800',\n",
       "    '3.3000',\n",
       "    '3.4063',\n",
       "    '3.5050',\n",
       "    '3.6750',\n",
       "    '3.8313'],\n",
       "   'date': '2019-03-14',\n",
       "   'type': None,\n",
       "   'showDate': '2019-03-14 16:30',\n",
       "   'id': 'CISCS3M',\n",
       "   'askBidSort': '2',\n",
       "   'bightlist': [],\n",
       "   'term': None,\n",
       "   'quoteTimeTag': 1630,\n",
       "   'ask': None,\n",
       "   'avg': None,\n",
       "   'bid': None,\n",
       "   'askBid': 'Mean'},\n",
       "  {'curveType': 'Closing Curve',\n",
       "   'bigthType': 'CISCS3M',\n",
       "   'dateShowEn': '13 Mar 2019',\n",
       "   'bigthName': 'Shibor3M Closing Curve',\n",
       "   'quoteTime': '16:30',\n",
       "   'configPrice': ['2.8938',\n",
       "    '2.9610',\n",
       "    '3.0263',\n",
       "    '3.1618',\n",
       "    '3.2713',\n",
       "    '3.3848',\n",
       "    '3.4925',\n",
       "    '3.6600',\n",
       "    '3.8125'],\n",
       "   'date': '2019-03-13',\n",
       "   'type': None,\n",
       "   'showDate': '2019-03-13 16:30',\n",
       "   'id': 'CISCS3M',\n",
       "   'askBidSort': '2',\n",
       "   'bightlist': [],\n",
       "   'term': None,\n",
       "   'quoteTimeTag': 1630,\n",
       "   'ask': None,\n",
       "   'avg': None,\n",
       "   'bid': None,\n",
       "   'askBid': 'Mean'}]}"
      ]
     },
     "execution_count": 36,
     "metadata": {},
     "output_type": "execute_result"
    }
   ],
   "source": [
    "resJson"
   ]
  },
  {
   "cell_type": "code",
   "execution_count": null,
   "metadata": {},
   "outputs": [],
   "source": []
  }
 ],
 "metadata": {
  "kernelspec": {
   "display_name": "Python 3",
   "language": "python",
   "name": "python3"
  },
  "language_info": {
   "codemirror_mode": {
    "name": "ipython",
    "version": 3
   },
   "file_extension": ".py",
   "mimetype": "text/x-python",
   "name": "python",
   "nbconvert_exporter": "python",
   "pygments_lexer": "ipython3",
   "version": "3.6.6"
  }
 },
 "nbformat": 4,
 "nbformat_minor": 2
}
