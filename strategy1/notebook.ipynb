{
 "cells": [
  {
   "cell_type": "code",
   "execution_count": 18,
   "metadata": {
    "collapsed": true
   },
   "outputs": [],
   "source": [
    "import pymysql\n",
    "import numpy as np\n",
    "import pandas as pd\n",
    "import matplotlib.pyplot as plt\n",
    "import datetime as dtt\n",
    "import statsmodels.api as sm\n",
    "from pylab import mpl"
   ]
  },
  {
   "cell_type": "code",
   "execution_count": 52,
   "metadata": {},
   "outputs": [],
   "source": [
    "mpl.rcParams['font.sans-serif'] = ['SimHei']\n",
    "plt.rcParams['axes.unicode_minus'] = False"
   ]
  },
  {
   "cell_type": "code",
   "execution_count": 3,
   "metadata": {},
   "outputs": [],
   "source": [
    "class Data(object):\n",
    "    \"\"\"本类用于从mysql中提取相应条件的数据\"\"\"\n",
    "    def __init__(self, sql, cur, args=None):\n",
    "        self.sql = sql\n",
    "        self.cur = cur\n",
    "        self.args = args\n",
    "        self.data = Data.get_data(self)\n",
    "\n",
    "    def __str__(self):\n",
    "        return str(self.data)\n",
    "\n",
    "    __repr__ = __str__\n",
    "\n",
    "    def get_data(self):\n",
    "        _ = self.cur.execute(self.sql, self.args)\n",
    "        data = self.cur.fetchall()\n",
    "        return data\n",
    "\n",
    "    def select_col(self, col):\n",
    "        return [d[col] for d in self.data]"
   ]
  },
  {
   "cell_type": "code",
   "execution_count": 4,
   "metadata": {},
   "outputs": [],
   "source": [
    "db = pymysql.connect(\"localhost\", \"root\", \"root\", \"strategy1\", charset=\"utf8\")\n",
    "cur = db.cursor()\n"
   ]
  },
  {
   "cell_type": "code",
   "execution_count": 60,
   "metadata": {
    "collapsed": false
   },
   "outputs": [
    {
     "data": {
      "text/plain": [
       "<matplotlib.legend.Legend at 0x29151b64ef0>"
      ]
     },
     "execution_count": 60,
     "metadata": {},
     "output_type": "execute_result"
    }
   ],
   "source": [
    "sql0 = r\"\"\"select dt, rate from tb_rate where term = 10 and bond_type ='国债'\"\"\"\n",
    "data0 = Data(sql0, cur)\n",
    "dt = np.array(data0.select_col(0))\n",
    "rate = np.array(data0.select_col(1))\n",
    "fig, axes = plt.subplots(3, 1, figsize=(12, 6), sharex=\"all\", gridspec_kw={'height_ratios':[3, 1.5, 1.5]})\n",
    "# 图1，十年国债到期收益率\n",
    "axes[0].spines[\"top\"].set_color('none')\n",
    "axes[0].spines[\"right\"].set_color(\"none\")\n",
    "axes[0].xaxis.set_ticks_position(\"bottom\")\n",
    "axes[0].yaxis.set_ticks_position(\"left\")\n",
    "axes[0].plot(dt, rate, label=\"十年国债收益率\")\n",
    "axes[0].spines[\"bottom\"].set_position(('data', 3))\n",
    "axes[0].legend(fontsize=15)\n",
    "# 图2，国债发行冲击\n",
    "sql1 = r\"\"\"select dt, delta from tb_sec_delta where code0 regexp '[:alnum:]{2}00.*' and term >=3\"\"\"\n",
    "data1 = Data(sql1, cur)\n",
    "dt1 = np.array(data1.select_col(0))\n",
    "delta1 = np.array(data1.select_col(1))\n",
    "axes[1].bar(dt1, delta1, label=\"续发国债冲击（BP)\")\n",
    "axes[1].set_ylim(-10, 10)\n",
    "axes[1].legend(fontsize=10, loc=\"upper left\")\n",
    "# 图3，国开债发行冲击\n",
    "sql2 = r\"\"\"select dt, delta from tb_sec_delta \n",
    "where code0 regexp '[:alnum:]{2}02.*' and term = 10\n",
    "and delta is not null\"\"\"\n",
    "data2 = Data(sql2, cur)\n",
    "dt2 = np.array(data2.select_col(0))\n",
    "delta2 = np.array(data2.select_col(1))\n",
    "axes[2].bar(dt2, delta2, label=\"续发国开债冲击（BP）\")\n",
    "axes[2].set_ylim(-10, 10)\n",
    "axes[2].legend(fontsize=10, loc=\"upper left\")"
   ]
  },
  {
   "cell_type": "code",
   "execution_count": 61,
   "metadata": {},
   "outputs": [],
   "source": [
    "plt.savefig(r\"C:\\Users\\Administrator\\Desktop\\lll.png\")\n",
    "fig.show()\n"
   ]
  },
  {
   "cell_type": "code",
   "execution_count": 39,
   "metadata": {},
   "outputs": [
    {
     "name": "stdout",
     "output_type": "stream",
     "text": [
      "Help on method set_ylim in module matplotlib.axes._base:\n\nset_ylim(bottom=None, top=None, emit=True, auto=False, *, ymin=None, ymax=None) method of matplotlib.axes._subplots.AxesSubplot instance\n    Set the data limits for the y-axis\n    \n    .. ACCEPTS: (bottom: float, top: float)\n    \n    Parameters\n    ----------\n    bottom : scalar, optional\n        The bottom ylim (default: None, which leaves the bottom\n        limit unchanged).\n        The bottom and top ylims may be passed as the tuple\n        (`bottom`, `top`) as the first positional argument (or as\n        the `bottom` keyword argument).\n    \n    top : scalar, optional\n        The top ylim (default: None, which leaves the top limit\n        unchanged).\n    \n    emit : bool, optional\n        Whether to notify observers of limit change (default: True).\n    \n    auto : bool or None, optional\n        Whether to turn on autoscaling of the y-axis. True turns on,\n        False turns off (default action), None leaves unchanged.\n    \n    ymin, ymax : scalar, optional\n        These arguments are deprecated and will be removed in a future\n        version.  They are equivalent to bottom and top respectively,\n        and it is an error to pass both `xmin` and `bottom` or\n        `xmax` and `top`.\n    \n    Returns\n    -------\n    ylimits : tuple\n        Returns the new y-axis limits as (`bottom`, `top`).\n    \n    Notes\n    -----\n    The `bottom` value may be greater than the `top` value, in which\n    case the y-axis values will decrease from bottom to top.\n    \n    Examples\n    --------\n    >>> set_ylim(bottom, top)\n    >>> set_ylim((bottom, top))\n    >>> bottom, top = set_ylim(bottom, top)\n    \n    One limit may be left unchanged.\n    \n    >>> set_ylim(top=top_lim)\n    \n    Limits may be passed in reverse order to flip the direction of\n    the y-axis. For example, suppose `y` represents depth of the\n    ocean in m. The y-axis limits might be set like the following\n    so 5000 m depth is at the bottom of the plot and the surface,\n    0 m, is at the top.\n    \n    >>> set_ylim(5000, 0)\n\n"
     ]
    }
   ],
   "source": [
    "help(axes[1].set_ylim)"
   ]
  },
  {
   "cell_type": "code",
   "execution_count": 24,
   "metadata": {},
   "outputs": [
    {
     "name": "stdout",
     "output_type": "stream",
     "text": [
      "Help on function subplots in module matplotlib.pyplot:\n\nsubplots(nrows=1, ncols=1, sharex=False, sharey=False, squeeze=True, subplot_kw=None, gridspec_kw=None, **fig_kw)\n    Create a figure and a set of subplots.\n    \n    This utility wrapper makes it convenient to create common layouts of\n    subplots, including the enclosing figure object, in a single call.\n    \n    Parameters\n    ----------\n    nrows, ncols : int, optional, default: 1\n        Number of rows/columns of the subplot grid.\n    \n    sharex, sharey : bool or {'none', 'all', 'row', 'col'}, default: False\n        Controls sharing of properties among x (`sharex`) or y (`sharey`)\n        axes:\n    \n            - True or 'all': x- or y-axis will be shared among all\n              subplots.\n            - False or 'none': each subplot x- or y-axis will be\n              independent.\n            - 'row': each subplot row will share an x- or y-axis.\n            - 'col': each subplot column will share an x- or y-axis.\n    \n        When subplots have a shared x-axis along a column, only the x tick\n        labels of the bottom subplot are created. Similarly, when subplots\n        have a shared y-axis along a row, only the y tick labels of the first\n        column subplot are created. To later turn other subplots' ticklabels\n        on, use `~matplotlib.axes.Axes.tick_params`.\n    \n    squeeze : bool, optional, default: True\n        - If True, extra dimensions are squeezed out from the returned\n          array of `~matplotlib.axes.Axes`:\n    \n            - if only one subplot is constructed (nrows=ncols=1), the\n              resulting single Axes object is returned as a scalar.\n            - for Nx1 or 1xM subplots, the returned object is a 1D numpy\n              object array of Axes objects.\n            - for NxM, subplots with N>1 and M>1 are returned as a 2D array.\n    \n        - If False, no squeezing at all is done: the returned Axes object is\n          always a 2D array containing Axes instances, even if it ends up\n          being 1x1.\n    \n    num : integer or string, optional, default: None\n        A `.pyplot.figure` keyword that sets the figure number or label.\n    \n    subplot_kw : dict, optional\n        Dict with keywords passed to the\n        `~matplotlib.figure.Figure.add_subplot` call used to create each\n        subplot.\n    \n    gridspec_kw : dict, optional\n        Dict with keywords passed to the `~matplotlib.gridspec.GridSpec`\n        constructor used to create the grid the subplots are placed on.\n    \n    **fig_kw :\n        All additional keyword arguments are passed to the\n        `.pyplot.figure` call.\n    \n    Returns\n    -------\n    fig : `~.figure.Figure`\n    \n    ax : `.axes.Axes` object or array of Axes objects.\n        *ax* can be either a single `~matplotlib.axes.Axes` object or an\n        array of Axes objects if more than one subplot was created.  The\n        dimensions of the resulting array can be controlled with the squeeze\n        keyword, see above.\n    \n    Examples\n    --------\n    ::\n    \n        #First create some toy data:\n        x = np.linspace(0, 2*np.pi, 400)\n        y = np.sin(x**2)\n    \n        #Creates just a figure and only one subplot\n        fig, ax = plt.subplots()\n        ax.plot(x, y)\n        ax.set_title('Simple plot')\n    \n        #Creates two subplots and unpacks the output array immediately\n        f, (ax1, ax2) = plt.subplots(1, 2, sharey=True)\n        ax1.plot(x, y)\n        ax1.set_title('Sharing Y axis')\n        ax2.scatter(x, y)\n    \n        #Creates four polar axes, and accesses them through the returned array\n        fig, axes = plt.subplots(2, 2, subplot_kw=dict(polar=True))\n        axes[0, 0].plot(x, y)\n        axes[1, 1].scatter(x, y)\n    \n        #Share a X axis with each column of subplots\n        plt.subplots(2, 2, sharex='col')\n    \n        #Share a Y axis with each row of subplots\n        plt.subplots(2, 2, sharey='row')\n    \n        #Share both X and Y axes with all subplots\n        plt.subplots(2, 2, sharex='all', sharey='all')\n    \n        #Note that this is the same as\n        plt.subplots(2, 2, sharex=True, sharey=True)\n    \n        #Creates figure number 10 with a single subplot\n        #and clears it if it already exists.\n        fig, ax=plt.subplots(num=10, clear=True)\n    \n    See Also\n    --------\n    .pyplot.figure\n    .pyplot.subplot\n    .pyplot.axes\n    .Figure.subplots\n    .Figure.add_subplot\n\n"
     ]
    }
   ],
   "source": [
    "help(plt.subplots)"
   ]
  }
 ],
 "metadata": {
  "kernelspec": {
   "display_name": "Python 2",
   "language": "python",
   "name": "python2"
  },
  "language_info": {
   "codemirror_mode": {
    "name": "ipython",
    "version": 2
   },
   "file_extension": ".py",
   "mimetype": "text/x-python",
   "name": "python",
   "nbconvert_exporter": "python",
   "pygments_lexer": "ipython2",
   "version": "2.7.6"
  }
 },
 "nbformat": 4,
 "nbformat_minor": 0
}
